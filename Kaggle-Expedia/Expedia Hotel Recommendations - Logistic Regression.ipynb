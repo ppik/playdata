{
 "cells": [
  {
   "cell_type": "markdown",
   "metadata": {},
   "source": [
    "# Expedia Hotel Recommendations Kaggle competition\n",
    "\n",
    "Peeter Piksarv (piksarv .at. gmail.com)\n",
    "\n",
    "The latest version of this Jupyter notebook is available at https://github.com/ppik/playdata/tree/master/Kaggle-Expedia\n",
    "\n",
    "Here I'll try to test some machine learning techniques on this dataset."
   ]
  },
  {
   "cell_type": "code",
   "execution_count": 1,
   "metadata": {
    "collapsed": false
   },
   "outputs": [],
   "source": [
    "import collections\n",
    "import itertools\n",
    "import operator\n",
    "import random\n",
    "\n",
    "import heapq\n",
    "import matplotlib.pyplot as plt\n",
    "import ml_metrics as metrics\n",
    "import numpy as np\n",
    "import pandas as pd\n",
    "import sklearn\n",
    "import sklearn.decomposition\n",
    "import sklearn.linear_model\n",
    "import sklearn.preprocessing\n",
    "\n",
    "%matplotlib notebook"
   ]
  },
  {
   "cell_type": "markdown",
   "metadata": {},
   "source": [
    "## Data import\n",
    "\n",
    "Defining a list of available data columns:"
   ]
  },
  {
   "cell_type": "code",
   "execution_count": 2,
   "metadata": {
    "collapsed": true
   },
   "outputs": [],
   "source": [
    "traincols = ['date_time', 'site_name', 'posa_continent', 'user_location_country',\n",
    "             'user_location_region', 'user_location_city', 'orig_destination_distance',\n",
    "             'user_id', 'is_mobile', 'is_package', 'channel', 'srch_ci', 'srch_co',\n",
    "             'srch_adults_cnt', 'srch_children_cnt', 'srch_rm_cnt', 'srch_destination_id',\n",
    "             'srch_destination_type_id', 'is_booking', 'cnt', 'hotel_continent',\n",
    "             'hotel_country', 'hotel_market', 'hotel_cluster']\n",
    "testcols = ['id', 'date_time', 'site_name', 'posa_continent', 'user_location_country',\n",
    "            'user_location_region', 'user_location_city', 'orig_destination_distance',\n",
    "            'user_id', 'is_mobile', 'is_package', 'channel', 'srch_ci', 'srch_co',\n",
    "            'srch_adults_cnt', 'srch_children_cnt', 'srch_rm_cnt', 'srch_destination_id',\n",
    "            'srch_destination_type_id', 'hotel_continent', 'hotel_country', 'hotel_market']"
   ]
  },
  {
   "cell_type": "markdown",
   "metadata": {},
   "source": [
    "Convenience function for reading the data in:"
   ]
  },
  {
   "cell_type": "code",
   "execution_count": 3,
   "metadata": {
    "collapsed": false
   },
   "outputs": [],
   "source": [
    "def read_csv(filename, cols, nrows=None):\n",
    "    datecols = ['date_time', 'srch_ci', 'srch_co']\n",
    "    dateparser = lambda x: pd.to_datetime(x, format='%Y-%m-%d %H:%M:%S', errors='coerce')\n",
    "\n",
    "    dtypes = {\n",
    "        'id': np.uint32,\n",
    "        'site_name': np.uint8,\n",
    "        'posa_continent': np.uint8,\n",
    "        'user_location_country': np.uint16,\n",
    "        'user_location_region': np.uint16,\n",
    "        'user_location_city': np.uint16,\n",
    "        'orig_destination_distance': np.float32,\n",
    "        'user_id': np.uint32,\n",
    "        'is_mobile': bool,\n",
    "        'is_package': bool,\n",
    "        'channel': np.uint8,\n",
    "        'srch_adults_cnt': np.uint8,\n",
    "        'srch_children_cnt': np.uint8,\n",
    "        'srch_rm_cnt': np.uint8,\n",
    "        'srch_destination_id': np.uint32,\n",
    "        'srch_destination_type_id': np.uint8,\n",
    "        'is_booking': bool,\n",
    "        'cnt': np.uint64,\n",
    "        'hotel_continent': np.uint8,\n",
    "        'hotel_country': np.uint16,\n",
    "        'hotel_market': np.uint16,\n",
    "        'hotel_cluster': np.uint8,\n",
    "    }\n",
    "\n",
    "    df = pd.read_csv(\n",
    "        filename,\n",
    "        nrows=nrows,\n",
    "        usecols=cols,\n",
    "        dtype=dtypes,\n",
    "        parse_dates=[col for col in datecols if col in cols],\n",
    "        date_parser=dateparser,\n",
    "    )\n",
    "    \n",
    "    if 'date_time' in df.columns:\n",
    "        df['month'] = df['date_time'].dt.month.astype(np.uint8)\n",
    "        df['year'] = df['date_time'].dt.year.astype(np.uint16)\n",
    "        \n",
    "    if 'srch_ci' and 'srch_co' in df.columns:\n",
    "        df['srch_ngt'] = (df['srch_co'] - df['srch_ci']).astype('timedelta64[h]')\n",
    "    \n",
    "    if 'srch_children_cnt' in df.columns:\n",
    "        df['is_family'] = np.array(df['srch_children_cnt'] > 0)\n",
    "    \n",
    "    return df"
   ]
  },
  {
   "cell_type": "code",
   "execution_count": 4,
   "metadata": {
    "collapsed": false
   },
   "outputs": [],
   "source": [
    "train = read_csv('data/train.csv.gz', nrows=None, cols=traincols)"
   ]
  },
  {
   "cell_type": "markdown",
   "metadata": {
    "collapsed": false
   },
   "source": [
    "Getting a list of all `user_id`s in the sample."
   ]
  },
  {
   "cell_type": "code",
   "execution_count": 5,
   "metadata": {
    "collapsed": false
   },
   "outputs": [
    {
     "data": {
      "text/plain": [
       "1198786"
      ]
     },
     "execution_count": 5,
     "metadata": {},
     "output_type": "execute_result"
    }
   ],
   "source": [
    "train_ids = set(train.user_id.unique())\n",
    "len(train_ids)"
   ]
  },
  {
   "cell_type": "markdown",
   "metadata": {},
   "source": [
    "Pick a subset of users for testing and validation"
   ]
  },
  {
   "cell_type": "code",
   "execution_count": 7,
   "metadata": {
    "collapsed": false
   },
   "outputs": [],
   "source": [
    "sel_user_ids = sorted(random.sample(train_ids, 12000))\n",
    "sel_train = train[train.user_id.isin(sel_user_ids)]"
   ]
  },
  {
   "cell_type": "markdown",
   "metadata": {},
   "source": [
    "Create new test and training sets, using bookings from 2013 as training data and 2014 as test data."
   ]
  },
  {
   "cell_type": "code",
   "execution_count": 8,
   "metadata": {
    "collapsed": false
   },
   "outputs": [],
   "source": [
    "cv_train = sel_train[sel_train.year == 2013]\n",
    "cv_test = sel_train[sel_train.year == 2014]"
   ]
  },
  {
   "cell_type": "markdown",
   "metadata": {},
   "source": [
    "Remove click events from `cv_test` as in original test data."
   ]
  },
  {
   "cell_type": "code",
   "execution_count": 9,
   "metadata": {
    "collapsed": false
   },
   "outputs": [],
   "source": [
    "cv_test = cv_test[cv_test.is_booking == True]"
   ]
  },
  {
   "cell_type": "markdown",
   "metadata": {},
   "source": [
    "# Model 0: Most common clusters\n",
    "Public solutions to the compedition ([Dataquest tutorial](https://www.dataquest.io/blog/kaggle-tutorial/) by Vik Paruchuri and [Leakage solution](https://www.kaggle.com/zfturbo/expedia-hotel-recommendations/leakage-solution) by ZFTurbo) use most common clusters in following groups:\n",
    "* `srch_destination_id`\n",
    "* `user_location_city`, `orig_destination_distance` (data leak)\n",
    "* `srch_destination_id`, `hotel_country`, `hotel_market` (for year 2014)\n",
    "* `srch_destination_id`\n",
    "* `hotel_country`"
   ]
  },
  {
   "cell_type": "markdown",
   "metadata": {},
   "source": [
    "Finding the most common overall clusters"
   ]
  },
  {
   "cell_type": "code",
   "execution_count": 10,
   "metadata": {
    "collapsed": false
   },
   "outputs": [],
   "source": [
    "most_common_clusters = list(cv_train.hotel_cluster.value_counts().head().index)"
   ]
  },
  {
   "cell_type": "markdown",
   "metadata": {},
   "source": [
    "Predicting the most common clusters in groups of `srch_destination_id`, `hotel_country`, `hotel_market`."
   ]
  },
  {
   "cell_type": "code",
   "execution_count": 11,
   "metadata": {
    "collapsed": false
   },
   "outputs": [],
   "source": [
    "match_cols = ['srch_destination_id']\n",
    "match_cols = ['srch_destination_id', 'hotel_country', 'hotel_market']\n",
    "groups = cv_train.groupby(match_cols + ['hotel_cluster'])"
   ]
  },
  {
   "cell_type": "code",
   "execution_count": 12,
   "metadata": {
    "collapsed": false
   },
   "outputs": [],
   "source": [
    "top_clusters = {}\n",
    "for name, group in groups:\n",
    "    bookings = group['is_booking'].sum()\n",
    "    clicks = len(group) - bookings\n",
    "    \n",
    "    score = bookings + .15*clicks\n",
    "    \n",
    "    clus_name = name[:len(match_cols)]\n",
    "    if clus_name not in top_clusters:\n",
    "        top_clusters[clus_name] = {}\n",
    "    top_clusters[clus_name][name[-1]] = score"
   ]
  },
  {
   "cell_type": "markdown",
   "metadata": {},
   "source": [
    "This dictionary has a key of `srch_destination_id`, `hotel_country`, `hotel_market` and each value is another dictionary, with hotel clusters as keys and scores as values."
   ]
  },
  {
   "cell_type": "markdown",
   "metadata": {},
   "source": [
    "Finding the top 5 for each destination."
   ]
  },
  {
   "cell_type": "code",
   "execution_count": 13,
   "metadata": {
    "collapsed": false
   },
   "outputs": [],
   "source": [
    "cluster_dict = {}\n",
    "for n in top_clusters:\n",
    "    tc = top_clusters[n]\n",
    "    top = [l[0] for l in sorted(tc.items(), key=operator.itemgetter(1), reverse=True)[:5]]\n",
    "    cluster_dict[n] = top"
   ]
  },
  {
   "cell_type": "markdown",
   "metadata": {},
   "source": [
    "### Making predictions based on destination"
   ]
  },
  {
   "cell_type": "code",
   "execution_count": 14,
   "metadata": {
    "collapsed": false
   },
   "outputs": [],
   "source": [
    "preds = []\n",
    "for index, row in cv_test.iterrows():\n",
    "    key = tuple([row[m] for m in match_cols])\n",
    "    pred = cluster_dict.get(key, most_common_clusters)\n",
    "    preds.append(pred)"
   ]
  },
  {
   "cell_type": "code",
   "execution_count": 15,
   "metadata": {
    "collapsed": false
   },
   "outputs": [
    {
     "data": {
      "text/plain": [
       "0.22201242636972485"
      ]
     },
     "execution_count": 15,
     "metadata": {},
     "output_type": "execute_result"
    }
   ],
   "source": [
    "cv_target = [[l] for l in cv_test['hotel_cluster']]\n",
    "metrics.mapk(cv_target, preds, k=5)"
   ]
  },
  {
   "cell_type": "markdown",
   "metadata": {},
   "source": [
    "* `srch_destination_id`, `is_booking`: 0.212\n",
    "* `srch_destination_id`, `hotel_country`, `hotel_market`: 0.214"
   ]
  },
  {
   "cell_type": "markdown",
   "metadata": {
    "collapsed": true
   },
   "source": [
    "# Model 1: Logistic regression\n",
    "One vs all classification using stohastic gradient decent and forward stepwise feature selection."
   ]
  },
  {
   "cell_type": "code",
   "execution_count": null,
   "metadata": {
    "collapsed": true
   },
   "outputs": [],
   "source": [
    "clf = sklearn.linear_model.SGDClassifier(loss='log', n_jobs=4)"
   ]
  },
  {
   "cell_type": "markdown",
   "metadata": {},
   "source": [
    "Make dummy variables from categorical features. Pandas has `get_dummies()`, but currently this returns only `float64`-s, that thends to be rather memory hungry and slow. See [#8725](https://github.com/pydata/pandas/issues/8725)."
   ]
  },
  {
   "cell_type": "code",
   "execution_count": null,
   "metadata": {
    "collapsed": true
   },
   "outputs": [],
   "source": [
    "cv_train_data = pd.DataFrame()\n",
    "for elem in cv_train['srch_destination_id'].unique():\n",
    "    cv_train_data[str(elem)] = cv_train['srch_destination_id'] == elem"
   ]
  },
  {
   "cell_type": "code",
   "execution_count": null,
   "metadata": {
    "collapsed": false
   },
   "outputs": [],
   "source": [
    "cv_test_data = pd.DataFrame()\n",
    "for elem in cv_train_data.columns:\n",
    "    cv_test_data[elem] = cv_test['srch_destination_id'] == int(elem)"
   ]
  },
  {
   "cell_type": "code",
   "execution_count": null,
   "metadata": {
    "collapsed": false
   },
   "outputs": [],
   "source": [
    "# cv_train_data['is_booking'] = cv_train['is_booking']\n",
    "# cv_test_data['is_booking'] = np.ones(len(cv_test_data), dtype=bool)"
   ]
  },
  {
   "cell_type": "code",
   "execution_count": null,
   "metadata": {
    "collapsed": false
   },
   "outputs": [],
   "source": [
    "clf.fit(cv_train_data, cv_train['hotel_cluster'])"
   ]
  },
  {
   "cell_type": "code",
   "execution_count": null,
   "metadata": {
    "collapsed": false
   },
   "outputs": [],
   "source": [
    "result = clf.predict_proba(cv_test_data)"
   ]
  },
  {
   "cell_type": "code",
   "execution_count": null,
   "metadata": {
    "collapsed": false
   },
   "outputs": [],
   "source": [
    "preds = [heapq.nlargest(5, clf.classes_, row.take) for row in result]"
   ]
  },
  {
   "cell_type": "code",
   "execution_count": null,
   "metadata": {
    "collapsed": false
   },
   "outputs": [],
   "source": [
    "metrics.mapk(cv_target, preds, k=5)"
   ]
  },
  {
   "cell_type": "markdown",
   "metadata": {},
   "source": [
    "I would say that not that bad at all (comparing the random forrest classifier in the Dataquest tutorial)."
   ]
  },
  {
   "cell_type": "markdown",
   "metadata": {},
   "source": [
    "Using destination latent features form destination description data file."
   ]
  },
  {
   "cell_type": "code",
   "execution_count": null,
   "metadata": {
    "collapsed": false
   },
   "outputs": [],
   "source": [
    "dest = pd.read_csv(\n",
    "    'data/destinations.csv.gz',\n",
    "    index_col = 'srch_destination_id',\n",
    ")"
   ]
  },
  {
   "cell_type": "code",
   "execution_count": null,
   "metadata": {
    "collapsed": false
   },
   "outputs": [],
   "source": [
    "pca = sklearn.decomposition.PCA(n_components=10)\n",
    "dest_small = pca.fit_transform(dest[['d{}'.format(i) for i in range(1,150)]])\n",
    "dest_small = pd.DataFrame(dest_small, index=dest.index)"
   ]
  },
  {
   "cell_type": "code",
   "execution_count": null,
   "metadata": {
    "collapsed": false
   },
   "outputs": [],
   "source": [
    "cv_train_data = pd.DataFrame({key: cv_train[key] for key in ['srch_destination_id']})\n",
    "cv_train_data = cv_train_data.join(dest_small, on=['srch_destination_id'], how='left')\n",
    "cv_train_data = cv_train_data.fillna(dest_small.mean())"
   ]
  },
  {
   "cell_type": "code",
   "execution_count": null,
   "metadata": {
    "collapsed": false
   },
   "outputs": [],
   "source": [
    "cv_test_data = pd.DataFrame({key: cv_test[key] for key in ['srch_destination_id']})\n",
    "cv_test_data = cv_test_data.join(dest_small, on='srch_destination_id', how='left', rsuffix='dest')\n",
    "cv_test_data = cv_test_data.fillna(dest_small.mean())"
   ]
  },
  {
   "cell_type": "code",
   "execution_count": null,
   "metadata": {
    "collapsed": false
   },
   "outputs": [],
   "source": [
    "clf = sklearn.linear_model.SGDClassifier(loss='log', n_jobs=4)\n",
    "clf.fit(cv_train_data, cv_train['hotel_cluster'])"
   ]
  },
  {
   "cell_type": "code",
   "execution_count": null,
   "metadata": {
    "collapsed": true
   },
   "outputs": [],
   "source": [
    "result = clf.predict_proba(cv_test_data)"
   ]
  },
  {
   "cell_type": "code",
   "execution_count": null,
   "metadata": {
    "collapsed": true
   },
   "outputs": [],
   "source": [
    "preds = [heapq.nlargest(5, clf.classes_, row.take) for row in result]"
   ]
  },
  {
   "cell_type": "code",
   "execution_count": null,
   "metadata": {
    "collapsed": false
   },
   "outputs": [],
   "source": [
    "metrics.mapk(cv_target, preds, k=5)"
   ]
  },
  {
   "cell_type": "markdown",
   "metadata": {},
   "source": [
    "=> destination latent features seem not to be for any good use?!"
   ]
  },
  {
   "cell_type": "code",
   "execution_count": 16,
   "metadata": {
    "collapsed": false
   },
   "outputs": [],
   "source": [
    "features = [\n",
    "    'site_name', 'posa_continent', 'user_location_country',\n",
    "    'user_location_region', 'user_location_city',\n",
    "    'is_mobile', 'is_package',\n",
    "    'channel', 'srch_adults_cnt', 'srch_destination_id',\n",
    "    'srch_destination_type_id', 'is_booking', 'cnt',\n",
    "    'hotel_continent', 'hotel_country', 'hotel_market',\n",
    "    'month', 'year', 'is_family',\n",
    "]"
   ]
  },
  {
   "cell_type": "code",
   "execution_count": 17,
   "metadata": {
    "collapsed": false
   },
   "outputs": [],
   "source": [
    "def fit_features(features, train, test):\n",
    "    # Data manipulation - split categorical features\n",
    "    train_data = pd.DataFrame()\n",
    "    test_data = pd.DataFrame()\n",
    "    for feature in features:\n",
    "        if train[feature].dtype == np.dtype('bool'):\n",
    "            train_data[feature] = train[feature]\n",
    "            test_data[feature] = test[feature]\n",
    "        else:\n",
    "            for elem in train[feature].unique():\n",
    "                train_data['{}_{}'.format(feature, elem)] = train[feature] == elem\n",
    "                test_data['{}_{}'.format(feature, elem)] = test[feature] == elem\n",
    "    \n",
    "    # Fitting\n",
    "    clf = sklearn.linear_model.SGDClassifier(loss='log', n_jobs=4)\n",
    "    clf.fit(train_data, train['hotel_cluster'])\n",
    "    \n",
    "    # Cross-validate the fit\n",
    "    result = clf.predict_proba(test_data)\n",
    "    preds = [heapq.nlargest(5, clf.classes_, row.take) for row in result]\n",
    "    target = [[l] for l in test['hotel_cluster']]\n",
    "    \n",
    "    return metrics.mapk(target, preds, k=5)"
   ]
  },
  {
   "cell_type": "code",
   "execution_count": 20,
   "metadata": {
    "collapsed": false
   },
   "outputs": [
    {
     "name": "stdout",
     "output_type": "stream",
     "text": [
      "site_name: 0.07409979582998205\n",
      "posa_continent: 0.075557342902514\n",
      "user_location_country: 0.07867145125698612\n",
      "user_location_region: 0.07620594361607788\n",
      "user_location_city: 0.06994576089422343\n",
      "is_mobile: 0.06114428014601249\n",
      "is_package: 0.0689037719895234\n",
      "channel: 0.06076687496133144\n",
      "srch_adults_cnt: 0.06571387324960301\n",
      "srch_destination_id: 0.17892150797088\n",
      "srch_destination_type_id: 0.05779145785642104\n",
      "is_booking: 0.0717564808513271\n",
      "cnt: 0.06537152756295242\n",
      "hotel_continent: 0.09783662273917795\n",
      "hotel_country: 0.13986419600321723\n",
      "hotel_market: 0.1959428942646786\n",
      "month: 0.05816680071768855\n",
      "year: 0.06597011693373753\n",
      "is_family: 0.05973622883540597\n"
     ]
    }
   ],
   "source": [
    "cv_results = {}\n",
    "for feature in features:\n",
    "    cv_results[feature] = fit_features([feature], cv_train, cv_test)\n",
    "    print('{}: {}'.format(feature, cv_results[feature]))"
   ]
  },
  {
   "cell_type": "code",
   "execution_count": 23,
   "metadata": {
    "collapsed": false
   },
   "outputs": [
    {
     "data": {
      "text/plain": [
       "[('hotel_market', 0.19594289426467859),\n",
       " ('srch_destination_id', 0.17892150797087999),\n",
       " ('hotel_country', 0.13986419600321723),\n",
       " ('hotel_continent', 0.097836622739177953),\n",
       " ('user_location_country', 0.078671451256986116),\n",
       " ('user_location_region', 0.076205943616077881),\n",
       " ('posa_continent', 0.075557342902513994),\n",
       " ('site_name', 0.074099795829982051),\n",
       " ('is_booking', 0.071756480851327104),\n",
       " ('user_location_city', 0.069945760894223427),\n",
       " ('is_package', 0.068903771989523396),\n",
       " ('year', 0.065970116933737527),\n",
       " ('srch_adults_cnt', 0.065713873249603011),\n",
       " ('cnt', 0.06537152756295242),\n",
       " ('is_mobile', 0.061144280146012489),\n",
       " ('channel', 0.060766874961331437),\n",
       " ('is_family', 0.059736228835405969),\n",
       " ('month', 0.058166800717688552),\n",
       " ('srch_destination_type_id', 0.057791457856421043)]"
      ]
     },
     "execution_count": 23,
     "metadata": {},
     "output_type": "execute_result"
    }
   ],
   "source": [
    "sorted(cv_results.items(), key=operator.itemgetter(1), reverse=True)"
   ]
  },
  {
   "cell_type": "markdown",
   "metadata": {},
   "source": [
    "The best single predictor of a hotel cluster seems to be `hotel_market`."
   ]
  },
  {
   "cell_type": "code",
   "execution_count": 25,
   "metadata": {
    "collapsed": true
   },
   "outputs": [],
   "source": [
    "features2 = [['hotel_market'] + [f] for f in features if f not in ['hotel_market']]"
   ]
  },
  {
   "cell_type": "code",
   "execution_count": 34,
   "metadata": {
    "collapsed": false
   },
   "outputs": [
    {
     "name": "stdout",
     "output_type": "stream",
     "text": [
      "['hotel_market', 'site_name']: 0.1969524015756151\n",
      "['hotel_market', 'posa_continent']: 0.19707665656128195\n",
      "['hotel_market', 'user_location_country']: 0.1990002887252779\n",
      "['hotel_market', 'user_location_region']: 0.19808255480624473\n",
      "['hotel_market', 'user_location_city']: 0.19851512714223843\n",
      "['hotel_market', 'is_mobile']: 0.19776959722823734\n",
      "['hotel_market', 'is_package']: 0.19729577842397247\n",
      "['hotel_market', 'channel']: 0.19772938192167294\n",
      "['hotel_market', 'srch_adults_cnt']: 0.19720606735548268\n",
      "['hotel_market', 'srch_destination_id']: 0.21783445729959375\n",
      "['hotel_market', 'srch_destination_type_id']: 0.19991389799748396\n",
      "['hotel_market', 'is_booking']: 0.19450854833054923\n",
      "['hotel_market', 'cnt']: 0.19629916063437067\n",
      "['hotel_market', 'hotel_continent']: 0.20295118480480107\n",
      "['hotel_market', 'hotel_country']: 0.2116753284250036\n",
      "['hotel_market', 'month']: 0.19871053228567304\n",
      "['hotel_market', 'year']: 0.19773453773020686\n",
      "['hotel_market', 'is_family']: 0.19823722906226157\n"
     ]
    }
   ],
   "source": [
    "cv_results2 = {}\n",
    "for feature in features2:\n",
    "    cv_results2[tuple(feature)] = fit_features(feature, cv_train, cv_test)\n",
    "    print('{}: {}'.format(feature, cv_results2[tuple(feature)]))"
   ]
  },
  {
   "cell_type": "code",
   "execution_count": 42,
   "metadata": {
    "collapsed": false
   },
   "outputs": [
    {
     "ename": "NameError",
     "evalue": "name 'cv_results2' is not defined",
     "output_type": "error",
     "traceback": [
      "\u001b[1;31m---------------------------------------------------------------------------\u001b[0m",
      "\u001b[1;31mNameError\u001b[0m                                 Traceback (most recent call last)",
      "\u001b[1;32m<ipython-input-42-02307fe2eb80>\u001b[0m in \u001b[0;36m<module>\u001b[1;34m()\u001b[0m\n\u001b[1;32m----> 1\u001b[1;33m \u001b[0msorted\u001b[0m\u001b[1;33m(\u001b[0m\u001b[0mcv_results2\u001b[0m\u001b[1;33m.\u001b[0m\u001b[0mitems\u001b[0m\u001b[1;33m(\u001b[0m\u001b[1;33m)\u001b[0m\u001b[1;33m,\u001b[0m \u001b[0mkey\u001b[0m\u001b[1;33m=\u001b[0m\u001b[0moperator\u001b[0m\u001b[1;33m.\u001b[0m\u001b[0mitemgetter\u001b[0m\u001b[1;33m(\u001b[0m\u001b[1;36m1\u001b[0m\u001b[1;33m)\u001b[0m\u001b[1;33m,\u001b[0m \u001b[0mreverse\u001b[0m\u001b[1;33m=\u001b[0m\u001b[1;32mTrue\u001b[0m\u001b[1;33m)\u001b[0m\u001b[1;33m[\u001b[0m\u001b[1;33m:\u001b[0m\u001b[1;36m3\u001b[0m\u001b[1;33m]\u001b[0m\u001b[1;33m\u001b[0m\u001b[0m\n\u001b[0m",
      "\u001b[1;31mNameError\u001b[0m: name 'cv_results2' is not defined"
     ]
    }
   ],
   "source": [
    "sorted(cv_results2.items(), key=operator.itemgetter(1), reverse=True)[:3]"
   ]
  },
  {
   "cell_type": "code",
   "execution_count": 18,
   "metadata": {
    "collapsed": true
   },
   "outputs": [],
   "source": [
    "features3 = [['hotel_market', 'srch_destination_id'] + [f] for f in features if f not in ['hotel_market', 'srch_destination_id']]"
   ]
  },
  {
   "cell_type": "code",
   "execution_count": 19,
   "metadata": {
    "collapsed": false
   },
   "outputs": [
    {
     "name": "stdout",
     "output_type": "stream",
     "text": [
      "['hotel_market', 'srch_destination_id', 'site_name']: 0.2094012749132575\n",
      "['hotel_market', 'srch_destination_id', 'posa_continent']: 0.21044944726861936\n",
      "['hotel_market', 'srch_destination_id', 'user_location_country']: 0.21253530218671832\n",
      "['hotel_market', 'srch_destination_id', 'user_location_region']: 0.21202775760509965\n",
      "['hotel_market', 'srch_destination_id', 'user_location_city']: 0.21004115226337447\n",
      "['hotel_market', 'srch_destination_id', 'is_mobile']: 0.20901234567901233\n",
      "['hotel_market', 'srch_destination_id', 'is_package']: 0.20973291374162836\n",
      "['hotel_market', 'srch_destination_id', 'channel']: 0.20971193415637862\n",
      "['hotel_market', 'srch_destination_id', 'srch_adults_cnt']: 0.20703058178003714\n",
      "['hotel_market', 'srch_destination_id', 'srch_destination_type_id']: 0.2112700718147341\n",
      "['hotel_market', 'srch_destination_id', 'is_booking']: 0.2091680787541354\n",
      "['hotel_market', 'srch_destination_id', 'cnt']: 0.21018074719599772\n",
      "['hotel_market', 'srch_destination_id', 'hotel_continent']: 0.21682885499878965\n",
      "['hotel_market', 'srch_destination_id', 'hotel_country']: 0.22068506414911643\n",
      "['hotel_market', 'srch_destination_id', 'month']: 0.20766158315177924\n",
      "['hotel_market', 'srch_destination_id', 'year']: 0.2134801904300815\n",
      "['hotel_market', 'srch_destination_id', 'is_family']: 0.2122553054143468\n"
     ]
    }
   ],
   "source": [
    "cv_results3 = {}\n",
    "for feature in features3:\n",
    "    cv_results3[tuple(feature)] = fit_features(feature, cv_train, cv_test)\n",
    "    print('{}: {}'.format(feature, cv_results3[tuple(feature)]))"
   ]
  },
  {
   "cell_type": "code",
   "execution_count": 41,
   "metadata": {
    "collapsed": false
   },
   "outputs": [
    {
     "data": {
      "text/plain": [
       "[(('hotel_market', 'srch_destination_id', 'hotel_country'),\n",
       "  0.22068506414911643),\n",
       " (('hotel_market', 'srch_destination_id', 'hotel_continent'),\n",
       "  0.21682885499878965),\n",
       " (('hotel_market', 'srch_destination_id', 'year'), 0.21348019043008151)]"
      ]
     },
     "execution_count": 41,
     "metadata": {},
     "output_type": "execute_result"
    }
   ],
   "source": [
    "sorted(cv_results3.items(), key=operator.itemgetter(1), reverse=True)[:3]"
   ]
  },
  {
   "cell_type": "code",
   "execution_count": 21,
   "metadata": {
    "collapsed": true
   },
   "outputs": [],
   "source": [
    "features4 = [['hotel_market', 'srch_destination_id', 'hotel_country'] + [f] for f in features if f not in ['hotel_market', 'srch_destination_id', 'hotel_country']]"
   ]
  },
  {
   "cell_type": "code",
   "execution_count": 24,
   "metadata": {
    "collapsed": false
   },
   "outputs": [
    {
     "name": "stdout",
     "output_type": "stream",
     "text": [
      "['hotel_market', 'srch_destination_id', 'hotel_country', 'site_name']: 0.2215855725006052\n",
      "['hotel_market', 'srch_destination_id', 'hotel_country', 'posa_continent']: 0.21947147583313162\n",
      "['hotel_market', 'srch_destination_id', 'hotel_country', 'user_location_country']: 0.22125958202210927\n",
      "['hotel_market', 'srch_destination_id', 'hotel_country', 'user_location_region']: 0.22095779875736302\n",
      "['hotel_market', 'srch_destination_id', 'hotel_country', 'user_location_city']: 0.22198015008472524\n",
      "['hotel_market', 'srch_destination_id', 'hotel_country', 'is_mobile']: 0.22127733397885904\n",
      "['hotel_market', 'srch_destination_id', 'hotel_country', 'is_package']: 0.22352295650770596\n",
      "['hotel_market', 'srch_destination_id', 'hotel_country', 'channel']: 0.21973129992737836\n",
      "['hotel_market', 'srch_destination_id', 'hotel_country', 'srch_adults_cnt']: 0.2192939562656338\n",
      "['hotel_market', 'srch_destination_id', 'hotel_country', 'srch_destination_type_id']: 0.22126038892923425\n",
      "['hotel_market', 'srch_destination_id', 'hotel_country', 'is_booking']: 0.22305252965383682\n",
      "['hotel_market', 'srch_destination_id', 'hotel_country', 'cnt']: 0.221037682562737\n",
      "['hotel_market', 'srch_destination_id', 'hotel_country', 'hotel_continent']: 0.22103284111998708\n",
      "['hotel_market', 'srch_destination_id', 'hotel_country', 'month']: 0.21971435487775356\n",
      "['hotel_market', 'srch_destination_id', 'hotel_country', 'year']: 0.2227580085532155\n",
      "['hotel_market', 'srch_destination_id', 'hotel_country', 'is_family']: 0.22101589607036234\n"
     ]
    }
   ],
   "source": [
    "cv_results4 = {}\n",
    "for feature in features4:\n",
    "    cv_results4[tuple(feature)] = fit_features(feature, cv_train, cv_test)\n",
    "    print('{}: {}'.format(feature, cv_results4[tuple(feature)]))"
   ]
  },
  {
   "cell_type": "code",
   "execution_count": 40,
   "metadata": {
    "collapsed": false
   },
   "outputs": [
    {
     "data": {
      "text/plain": [
       "[(('hotel_market', 'srch_destination_id', 'hotel_country', 'is_package'),\n",
       "  0.22352295650770596),\n",
       " (('hotel_market', 'srch_destination_id', 'hotel_country', 'is_booking'),\n",
       "  0.22305252965383682),\n",
       " (('hotel_market', 'srch_destination_id', 'hotel_country', 'year'),\n",
       "  0.22275800855321551)]"
      ]
     },
     "execution_count": 40,
     "metadata": {},
     "output_type": "execute_result"
    }
   ],
   "source": [
    "sorted(cv_results4.items(), key=operator.itemgetter(1), reverse=True)[:3]"
   ]
  },
  {
   "cell_type": "code",
   "execution_count": 27,
   "metadata": {
    "collapsed": false
   },
   "outputs": [],
   "source": [
    "sel_features = ['hotel_market', 'srch_destination_id', 'hotel_country', 'is_package']\n",
    "features5 = [sel_features + [f] for f in features if f not in sel_features]"
   ]
  },
  {
   "cell_type": "code",
   "execution_count": 29,
   "metadata": {
    "collapsed": false
   },
   "outputs": [
    {
     "name": "stdout",
     "output_type": "stream",
     "text": [
      "['hotel_market', 'srch_destination_id', 'hotel_country', 'is_package', 'site_name']: 0.2237359799887033\n",
      "['hotel_market', 'srch_destination_id', 'hotel_country', 'is_package', 'posa_continent']: 0.22256515775034297\n",
      "['hotel_market', 'srch_destination_id', 'hotel_country', 'is_package', 'user_location_country']: 0.22157588961510527\n",
      "['hotel_market', 'srch_destination_id', 'hotel_country', 'is_package', 'user_location_region']: 0.22076494795449042\n",
      "['hotel_market', 'srch_destination_id', 'hotel_country', 'is_package', 'user_location_city']: 0.22298959089808765\n",
      "['hotel_market', 'srch_destination_id', 'hotel_country', 'is_package', 'is_mobile']: 0.22112402162511094\n",
      "['hotel_market', 'srch_destination_id', 'hotel_country', 'is_package', 'channel']: 0.22243928023884452\n",
      "['hotel_market', 'srch_destination_id', 'hotel_country', 'is_package', 'srch_adults_cnt']: 0.22246106673121924\n",
      "['hotel_market', 'srch_destination_id', 'hotel_country', 'is_package', 'srch_destination_type_id']: 0.22149761962398126\n",
      "['hotel_market', 'srch_destination_id', 'hotel_country', 'is_package', 'is_booking']: 0.22440006455257\n",
      "['hotel_market', 'srch_destination_id', 'hotel_country', 'is_package', 'cnt']: 0.2215492616799806\n",
      "['hotel_market', 'srch_destination_id', 'hotel_country', 'is_package', 'hotel_continent']: 0.21973614137012829\n",
      "['hotel_market', 'srch_destination_id', 'hotel_country', 'is_package', 'month']: 0.2188404744613895\n",
      "['hotel_market', 'srch_destination_id', 'hotel_country', 'is_package', 'year']: 0.22280965060921487\n",
      "['hotel_market', 'srch_destination_id', 'hotel_country', 'is_package', 'is_family']: 0.22214072460259823\n"
     ]
    }
   ],
   "source": [
    "cv_results5 = {}\n",
    "for feature in features5:\n",
    "    cv_results5[tuple(feature)] = fit_features(feature, cv_train, cv_test)\n",
    "    print('{}: {}'.format(feature, cv_results5[tuple(feature)]))"
   ]
  },
  {
   "cell_type": "code",
   "execution_count": 39,
   "metadata": {
    "collapsed": false
   },
   "outputs": [
    {
     "data": {
      "text/plain": [
       "[(('hotel_market',\n",
       "   'srch_destination_id',\n",
       "   'hotel_country',\n",
       "   'is_package',\n",
       "   'is_booking'),\n",
       "  0.22440006455257),\n",
       " (('hotel_market',\n",
       "   'srch_destination_id',\n",
       "   'hotel_country',\n",
       "   'is_package',\n",
       "   'site_name'),\n",
       "  0.22373597998870329),\n",
       " (('hotel_market',\n",
       "   'srch_destination_id',\n",
       "   'hotel_country',\n",
       "   'is_package',\n",
       "   'user_location_city'),\n",
       "  0.22298959089808765)]"
      ]
     },
     "execution_count": 39,
     "metadata": {},
     "output_type": "execute_result"
    }
   ],
   "source": [
    "sorted(cv_results5.items(), key=operator.itemgetter(1), reverse=True)[:3]"
   ]
  },
  {
   "cell_type": "code",
   "execution_count": 31,
   "metadata": {
    "collapsed": true
   },
   "outputs": [],
   "source": [
    "sel_features = ['hotel_market', 'srch_destination_id', 'hotel_country', 'is_package', 'is_booking']\n",
    "features6 = [sel_features + [f] for f in features if f not in sel_features]"
   ]
  },
  {
   "cell_type": "code",
   "execution_count": 32,
   "metadata": {
    "collapsed": false
   },
   "outputs": [
    {
     "name": "stdout",
     "output_type": "stream",
     "text": [
      "['hotel_market', 'srch_destination_id', 'hotel_country', 'is_package', 'is_booking', 'site_name']: 0.2228467683369644\n",
      "['hotel_market', 'srch_destination_id', 'hotel_country', 'is_package', 'is_booking', 'posa_continent']: 0.22623577826192204\n",
      "['hotel_market', 'srch_destination_id', 'hotel_country', 'is_package', 'is_booking', 'user_location_country']: 0.22255708867909302\n",
      "['hotel_market', 'srch_destination_id', 'hotel_country', 'is_package', 'is_booking', 'user_location_region']: 0.22595336076817557\n",
      "['hotel_market', 'srch_destination_id', 'hotel_country', 'is_package', 'is_booking', 'user_location_city']: 0.22120229161623498\n",
      "['hotel_market', 'srch_destination_id', 'hotel_country', 'is_package', 'is_booking', 'is_mobile']: 0.22327120148470908\n",
      "['hotel_market', 'srch_destination_id', 'hotel_country', 'is_package', 'is_booking', 'channel']: 0.22534818042443314\n",
      "['hotel_market', 'srch_destination_id', 'hotel_country', 'is_package', 'is_booking', 'srch_adults_cnt']: 0.22382231905107722\n",
      "['hotel_market', 'srch_destination_id', 'hotel_country', 'is_package', 'is_booking', 'srch_destination_type_id']: 0.22400710078269992\n",
      "['hotel_market', 'srch_destination_id', 'hotel_country', 'is_package', 'is_booking', 'cnt']: 0.222798353909465\n",
      "['hotel_market', 'srch_destination_id', 'hotel_country', 'is_package', 'is_booking', 'hotel_continent']: 0.22509803921568625\n",
      "['hotel_market', 'srch_destination_id', 'hotel_country', 'is_package', 'is_booking', 'month']: 0.22231420963447104\n",
      "['hotel_market', 'srch_destination_id', 'hotel_country', 'is_package', 'is_booking', 'year']: 0.22387396110707658\n",
      "['hotel_market', 'srch_destination_id', 'hotel_country', 'is_package', 'is_booking', 'is_family']: 0.2245017348503187\n"
     ]
    }
   ],
   "source": [
    "cv_results6 = {}\n",
    "for feature in features6:\n",
    "    cv_results6[tuple(feature)] = fit_features(feature, cv_train, cv_test)\n",
    "    print('{}: {}'.format(feature, cv_results6[tuple(feature)]))"
   ]
  },
  {
   "cell_type": "code",
   "execution_count": 38,
   "metadata": {
    "collapsed": false
   },
   "outputs": [
    {
     "data": {
      "text/plain": [
       "[(('hotel_market',\n",
       "   'srch_destination_id',\n",
       "   'hotel_country',\n",
       "   'is_package',\n",
       "   'is_booking',\n",
       "   'posa_continent'),\n",
       "  0.22623577826192204),\n",
       " (('hotel_market',\n",
       "   'srch_destination_id',\n",
       "   'hotel_country',\n",
       "   'is_package',\n",
       "   'is_booking',\n",
       "   'user_location_region'),\n",
       "  0.22595336076817557),\n",
       " (('hotel_market',\n",
       "   'srch_destination_id',\n",
       "   'hotel_country',\n",
       "   'is_package',\n",
       "   'is_booking',\n",
       "   'channel'),\n",
       "  0.22534818042443314)]"
      ]
     },
     "execution_count": 38,
     "metadata": {},
     "output_type": "execute_result"
    }
   ],
   "source": [
    "sorted(cv_results6.items(), key=operator.itemgetter(1), reverse=True)[:3]"
   ]
  },
  {
   "cell_type": "code",
   "execution_count": 34,
   "metadata": {
    "collapsed": true
   },
   "outputs": [],
   "source": [
    "sel_features = ['hotel_market', 'srch_destination_id', 'hotel_country', 'is_package', 'is_booking', 'posa_continent']\n",
    "features7 = [sel_features + [f] for f in features if f not in sel_features]"
   ]
  },
  {
   "cell_type": "code",
   "execution_count": 35,
   "metadata": {
    "collapsed": false
   },
   "outputs": [
    {
     "name": "stdout",
     "output_type": "stream",
     "text": [
      "['hotel_market', 'srch_destination_id', 'hotel_country', 'is_package', 'is_booking', 'posa_continent', 'site_name']: 0.21952876623900588\n",
      "['hotel_market', 'srch_destination_id', 'hotel_country', 'is_package', 'is_booking', 'posa_continent', 'user_location_country']: 0.21938271604938273\n",
      "['hotel_market', 'srch_destination_id', 'hotel_country', 'is_package', 'is_booking', 'posa_continent', 'user_location_region']: 0.22359638505608004\n",
      "['hotel_market', 'srch_destination_id', 'hotel_country', 'is_package', 'is_booking', 'posa_continent', 'user_location_city']: 0.22424271766319692\n",
      "['hotel_market', 'srch_destination_id', 'hotel_country', 'is_package', 'is_booking', 'posa_continent', 'is_mobile']: 0.22468570967481644\n",
      "['hotel_market', 'srch_destination_id', 'hotel_country', 'is_package', 'is_booking', 'posa_continent', 'channel']: 0.22337367868958286\n",
      "['hotel_market', 'srch_destination_id', 'hotel_country', 'is_package', 'is_booking', 'posa_continent', 'srch_adults_cnt']: 0.22353021867183087\n",
      "['hotel_market', 'srch_destination_id', 'hotel_country', 'is_package', 'is_booking', 'posa_continent', 'srch_destination_type_id']: 0.226082465908174\n",
      "['hotel_market', 'srch_destination_id', 'hotel_country', 'is_package', 'is_booking', 'posa_continent', 'cnt']: 0.2223045267489712\n",
      "['hotel_market', 'srch_destination_id', 'hotel_country', 'is_package', 'is_booking', 'posa_continent', 'hotel_continent']: 0.22457193577019288\n",
      "['hotel_market', 'srch_destination_id', 'hotel_country', 'is_package', 'is_booking', 'posa_continent', 'month']: 0.2214137012829823\n",
      "['hotel_market', 'srch_destination_id', 'hotel_country', 'is_package', 'is_booking', 'posa_continent', 'year']: 0.2246816751391915\n",
      "['hotel_market', 'srch_destination_id', 'hotel_country', 'is_package', 'is_booking', 'posa_continent', 'is_family']: 0.2227854433954652\n"
     ]
    }
   ],
   "source": [
    "cv_results7 = {}\n",
    "for feature in features7:\n",
    "    cv_results7[tuple(feature)] = fit_features(feature, cv_train, cv_test)\n",
    "    print('{}: {}'.format(feature, cv_results7[tuple(feature)]))"
   ]
  },
  {
   "cell_type": "code",
   "execution_count": 37,
   "metadata": {
    "collapsed": false
   },
   "outputs": [
    {
     "data": {
      "text/plain": [
       "[(('hotel_market',\n",
       "   'srch_destination_id',\n",
       "   'hotel_country',\n",
       "   'is_package',\n",
       "   'is_booking',\n",
       "   'posa_continent',\n",
       "   'srch_destination_type_id'),\n",
       "  0.22608246590817399),\n",
       " (('hotel_market',\n",
       "   'srch_destination_id',\n",
       "   'hotel_country',\n",
       "   'is_package',\n",
       "   'is_booking',\n",
       "   'posa_continent',\n",
       "   'is_mobile'),\n",
       "  0.22468570967481644),\n",
       " (('hotel_market',\n",
       "   'srch_destination_id',\n",
       "   'hotel_country',\n",
       "   'is_package',\n",
       "   'is_booking',\n",
       "   'posa_continent',\n",
       "   'year'),\n",
       "  0.22468167513919149)]"
      ]
     },
     "execution_count": 37,
     "metadata": {},
     "output_type": "execute_result"
    }
   ],
   "source": [
    "sorted(cv_results7.items(), key=operator.itemgetter(1), reverse=True)[:3]"
   ]
  },
  {
   "cell_type": "markdown",
   "metadata": {},
   "source": [
    "- No improvement over previous results. Best logistic regression result with fields 'hotel_market', 'srch_destination_id', 'hotel_country', 'is_package', 'is_booking', 'posa_continent'"
   ]
  },
  {
   "cell_type": "code",
   "execution_count": null,
   "metadata": {
    "collapsed": true
   },
   "outputs": [],
   "source": []
  },
  {
   "cell_type": "markdown",
   "metadata": {},
   "source": [
    "--\n",
    "Peeter Piksarv"
   ]
  }
 ],
 "metadata": {
  "kernelspec": {
   "display_name": "Python 3",
   "language": "python",
   "name": "python3"
  },
  "language_info": {
   "codemirror_mode": {
    "name": "ipython",
    "version": 3
   },
   "file_extension": ".py",
   "mimetype": "text/x-python",
   "name": "python",
   "nbconvert_exporter": "python",
   "pygments_lexer": "ipython3",
   "version": "3.5.1"
  }
 },
 "nbformat": 4,
 "nbformat_minor": 0
}
