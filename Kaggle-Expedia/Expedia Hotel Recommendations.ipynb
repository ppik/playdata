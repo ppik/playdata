{
 "cells": [
  {
   "cell_type": "markdown",
   "metadata": {},
   "source": [
    "# Expedia Hotel Recommendations Kaggle competition\n",
    "\n",
    "Peeter Piksarv (piksarv .at. gmail.com)\n",
    "\n",
    "The latest version of this Jupyter notebook is available at https://github.com/ppik/playdata/tree/master/Kaggle-Expedia\n",
    "\n",
    "This is my take on that particular Kaggle competition started off using [Dataquest tutorial](https://www.dataquest.io/blog/kaggle-tutorial/) by Vik Paruchuri."
   ]
  },
  {
   "cell_type": "code",
   "execution_count": 79,
   "metadata": {
    "collapsed": false
   },
   "outputs": [],
   "source": [
    "import matplotlib.pyplot as plt\n",
    "import numpy as np\n",
    "import pandas as pd\n",
    "import random\n",
    "\n",
    "import ml_metrics as metrics\n",
    "\n",
    "%matplotlib notebook"
   ]
  },
  {
   "cell_type": "markdown",
   "metadata": {},
   "source": [
    "## Data import\n",
    "Actually don't need to unpack gzipped cvs files, pandas' `read_csv` can handle those, although it can be slower (Reading 1000000 rows from `train.csv.gz` seems to be about 9% slower than from `train.csv` on my laptop).\n",
    "\n",
    "Additionally, it's a good idea to specify the data types for each column tho ease the memory requirements. By default pandas detects the following data types:"
   ]
  },
  {
   "cell_type": "code",
   "execution_count": 2,
   "metadata": {
    "collapsed": false
   },
   "outputs": [
    {
     "name": "stdout",
     "output_type": "stream",
     "text": [
      "<class 'pandas.core.frame.DataFrame'>\n",
      "RangeIndex: 10 entries, 0 to 9\n",
      "Data columns (total 24 columns):\n",
      "date_time                    10 non-null object\n",
      "site_name                    10 non-null int64\n",
      "posa_continent               10 non-null int64\n",
      "user_location_country        10 non-null int64\n",
      "user_location_region         10 non-null int64\n",
      "user_location_city           10 non-null int64\n",
      "orig_destination_distance    6 non-null float64\n",
      "user_id                      10 non-null int64\n",
      "is_mobile                    10 non-null int64\n",
      "is_package                   10 non-null int64\n",
      "channel                      10 non-null int64\n",
      "srch_ci                      10 non-null object\n",
      "srch_co                      10 non-null object\n",
      "srch_adults_cnt              10 non-null int64\n",
      "srch_children_cnt            10 non-null int64\n",
      "srch_rm_cnt                  10 non-null int64\n",
      "srch_destination_id          10 non-null int64\n",
      "srch_destination_type_id     10 non-null int64\n",
      "is_booking                   10 non-null int64\n",
      "cnt                          10 non-null int64\n",
      "hotel_continent              10 non-null int64\n",
      "hotel_country                10 non-null int64\n",
      "hotel_market                 10 non-null int64\n",
      "hotel_cluster                10 non-null int64\n",
      "dtypes: float64(1), int64(20), object(3)\n",
      "memory usage: 2.0+ KB\n"
     ]
    }
   ],
   "source": [
    "train = pd.read_csv('data/train.csv.gz', nrows=10)\n",
    "train.info()"
   ]
  },
  {
   "cell_type": "markdown",
   "metadata": {
    "collapsed": true
   },
   "source": [
    "According to the specification the data fields are following:\n",
    "\n",
    "`train.csv`\n",
    "\n",
    "| Column name               | Description                                   | Data type | Equiv. type | Notes |\n",
    "|---------------------------|-----------------------------------------------|-----------|-------------|-------|\n",
    "| date_time                 | Timestamp                                     | string    |             | [1]   |\n",
    "| site_name                 | ID of the Expedia point of sale               | int       | np.int32    |       |\n",
    "| posa_continent            | ID of continent associated with site_name     | int       | np.int32    |       |\n",
    "| user_location_country     | The ID of the country the customer is located | int       | np.int32    |       |\n",
    "| user_location_region      | The ID of the region the customer is located  | int       | np.int32    |       |\n",
    "| user_location_city        | The ID of the city the customer is located    | int       | np.int32    |       |\n",
    "| orig_destination_distance | Physical distance between a hotel and a customer at the time of search. A null means the distance could not be calculated | double | np.float64 | |\n",
    "| user_id                   | ID of user                                    | int       | np.int32    |       |\n",
    "| is_mobile                 | 1 when a user connected from a mobile device, 0 otherwise | tinyint | np.uint8 | [2] |\n",
    "| is_package                | 1 if the click/booking was generated as a part of a package (i.e. combined with a flight), 0 otherwise | int | np.uint8 | [2] |\n",
    "| channel                   | ID of a marketing channel                     | int       | np.int32    |       |\n",
    "| srch_ci                   | Checkin date                                  | string    |             | [1]   |\n",
    "| srch_co                   | Checkout date                                 | string    |             | [1]   |\n",
    "| srch_adults_cnt           | The number of adults specified in the hotel room | int    | np.int32    |       |\n",
    "| srch_children_cnt         | The number of (extra occupancy) children specified in the hotel room | int | np.int32 | [4] |\n",
    "| srch_rm_cnt               | The number of hotel rooms specified in the search | int   | np.int32    | [4]   |\n",
    "| srch_destination_id       | ID of the destination where the hotel search was performed | int | np.int32 |   |\n",
    "| srch_destination_type_id  | Type of destination                           | int       | np.int32    |       |\n",
    "| hotel_continent           | Hotel continent                               | int       | np.int32    |       |\n",
    "| hotel_country             | Hotel country                                 | int       | np.int32    |       |\n",
    "| hotel_market              | Hotel market                                  | int       | np.int32    |       |\n",
    "| is_booking                | 1 if a booking, 0 if a click                  | tinyint   | np.uint8    | [2]   |\n",
    "| cnt                       | Numer of similar events in the context of the same user session | bigint | np.int64 | |\n",
    "| hotel_cluster             | ID of a hotel cluster                         | int       | np.int32    |       |\n",
    "\n",
    "`destinations.csv`\n",
    "\n",
    "| Column name         | Description                                                | Data type | Equiv. type | Notes |\n",
    "|---------------------|------------------------------------------------------------|-----------|-------------|-------|\n",
    "| srch_destination_id | ID of the destination where the hotel search was performed | int       | np.int32    |       |\n",
    "| d1-d149             | latent description of search regions                       | double    | np.float64  | [3,5] |\n",
    "\n",
    "### Notes\n",
    "1. Probably it would be good idea to parse dates while loading data. From date information useful features may include duration of the stay, season/month, how much in advance is the booking made, etc.\n",
    "2. May use np.bool instead.\n",
    "3. Single or even half-precision might be enough when starting to take account descriptions of search regions.\n",
    "4. If taking into account if the column srch_children_cnt or srch_room_cnt it may be worthwhile to simply this first to a boolean values if any number of children and/or rooms was specifien in the hotel room.\n",
    "5. Maybe the required clustering can be done solely on the base of latent descriptions of search regions.\n"
   ]
  },
  {
   "cell_type": "code",
   "execution_count": 3,
   "metadata": {
    "collapsed": true
   },
   "outputs": [],
   "source": [
    "traincols = ['date_time', 'site_name', 'posa_continent', 'user_location_country',\n",
    "             'user_location_region', 'user_location_city', 'orig_destination_distance',\n",
    "             'user_id', 'is_mobile', 'is_package', 'channel', 'srch_ci', 'srch_co',\n",
    "             'srch_adults_cnt', 'srch_children_cnt', 'srch_rm_cnt', 'srch_destination_id',\n",
    "             'srch_destination_type_id', 'is_booking', 'cnt', 'hotel_continent',\n",
    "             'hotel_country', 'hotel_market', 'hotel_cluster']\n",
    "testcols = ['id', 'date_time', 'site_name', 'posa_continent', 'user_location_country',\n",
    "            'user_location_region', 'user_location_city', 'orig_destination_distance',\n",
    "            'user_id', 'is_mobile', 'is_package', 'channel', 'srch_ci', 'srch_co',\n",
    "            'srch_adults_cnt', 'srch_children_cnt', 'srch_rm_cnt', 'srch_destination_id',\n",
    "            'srch_destination_type_id', 'hotel_continent', 'hotel_country', 'hotel_market']"
   ]
  },
  {
   "cell_type": "markdown",
   "metadata": {},
   "source": [
    "Finding columns in testcols but not in traincols and vice versa:"
   ]
  },
  {
   "cell_type": "code",
   "execution_count": 4,
   "metadata": {
    "collapsed": false
   },
   "outputs": [
    {
     "data": {
      "text/plain": [
       "['id']"
      ]
     },
     "execution_count": 4,
     "metadata": {},
     "output_type": "execute_result"
    }
   ],
   "source": [
    "[col for col in testcols if col not in traincols]"
   ]
  },
  {
   "cell_type": "code",
   "execution_count": 6,
   "metadata": {
    "collapsed": false
   },
   "outputs": [
    {
     "data": {
      "text/plain": [
       "['is_booking', 'cnt', 'hotel_cluster']"
      ]
     },
     "execution_count": 6,
     "metadata": {},
     "output_type": "execute_result"
    }
   ],
   "source": [
    "[col for col in traincols if col not in testcols]"
   ]
  },
  {
   "cell_type": "markdown",
   "metadata": {},
   "source": [
    "I don't know exactly what data colmuns I will be using eventually but I will define the data types for them here anyway just in case. Looking at the data most of the columns are actually non-negative integers so I can use unsigned integers for the most cases. Usage between uint8, uint32 and others was determined by the min and max values in the test dataset."
   ]
  },
  {
   "cell_type": "code",
   "execution_count": 7,
   "metadata": {
    "collapsed": false
   },
   "outputs": [],
   "source": [
    "def read_csv( filename, cols, nrows=None ):\n",
    "    datecols = ['date_time', 'srch_ci', 'srch_co']\n",
    "    dateparser = lambda x: pd.to_datetime(x, format='%Y-%m-%d %H:%M:%S', errors='coerce')\n",
    "\n",
    "    dtypes = {\n",
    "        'id': np.uint32,\n",
    "        'site_name': np.uint8,\n",
    "        'posa_continent': np.uint8,\n",
    "        'user_location_country': np.uint16,\n",
    "        'user_location_region': np.uint16,\n",
    "        'user_location_city': np.uint16,\n",
    "        'orig_destination_distance': np.float32,\n",
    "        'user_id': np.uint32,\n",
    "        'is_mobile': bool,\n",
    "        'is_package': bool,\n",
    "        'channel': np.uint8,\n",
    "        'srch_adults_cnt': np.uint8,\n",
    "        'srch_children_cnt': np.uint8,\n",
    "        'srch_rm_cnt': np.uint8,\n",
    "        'srch_destination_id': np.uint32,\n",
    "        'srch_destination_type_id': np.uint8,\n",
    "        'is_booking': bool,\n",
    "        'cnt': np.uint64,\n",
    "        'hotel_continent': np.uint8,\n",
    "        'hotel_country': np.uint16,\n",
    "        'hotel_market': np.uint16,\n",
    "        'hotel_cluster': np.uint8,\n",
    "    }\n",
    "\n",
    "    df = pd.read_csv(\n",
    "        filename,\n",
    "        nrows=nrows,\n",
    "        usecols=cols,\n",
    "        dtype=dtypes, # dtype can also specify datatypes for columns that do not excist in the particular datafile\n",
    "        parse_dates=[col for col in datecols if col in cols], # columns here must be also in usecols\n",
    "        date_parser=dateparser,\n",
    "    )\n",
    "    return df"
   ]
  },
  {
   "cell_type": "code",
   "execution_count": 26,
   "metadata": {
    "collapsed": false
   },
   "outputs": [
    {
     "name": "stdout",
     "output_type": "stream",
     "text": [
      "<class 'pandas.core.frame.DataFrame'>\n",
      "RangeIndex: 37670293 entries, 0 to 37670292\n",
      "Data columns (total 24 columns):\n",
      "date_time                    datetime64[ns]\n",
      "site_name                    uint8\n",
      "posa_continent               uint8\n",
      "user_location_country        uint16\n",
      "user_location_region         uint16\n",
      "user_location_city           uint16\n",
      "orig_destination_distance    float32\n",
      "user_id                      uint32\n",
      "is_mobile                    bool\n",
      "is_package                   bool\n",
      "channel                      uint8\n",
      "srch_ci                      datetime64[ns]\n",
      "srch_co                      datetime64[ns]\n",
      "srch_adults_cnt              uint8\n",
      "srch_children_cnt            uint8\n",
      "srch_rm_cnt                  uint8\n",
      "srch_destination_id          uint32\n",
      "srch_destination_type_id     uint8\n",
      "is_booking                   bool\n",
      "cnt                          uint64\n",
      "hotel_continent              uint8\n",
      "hotel_country                uint16\n",
      "hotel_market                 uint16\n",
      "hotel_cluster                uint8\n",
      "dtypes: bool(3), datetime64[ns](3), float32(1), uint16(5), uint32(2), uint64(1), uint8(9)\n",
      "memory usage: 2.3 GB\n"
     ]
    }
   ],
   "source": [
    "train = read_csv('data/train.csv.gz', nrows=None, cols=traincols)\n",
    "train.info()"
   ]
  },
  {
   "cell_type": "markdown",
   "metadata": {},
   "source": [
    "With these type definitions the entire training set of 37 million entries takes 2.3 GB of memory."
   ]
  },
  {
   "cell_type": "code",
   "execution_count": 9,
   "metadata": {
    "collapsed": false
   },
   "outputs": [
    {
     "name": "stdout",
     "output_type": "stream",
     "text": [
      "<class 'pandas.core.frame.DataFrame'>\n",
      "RangeIndex: 2528243 entries, 0 to 2528242\n",
      "Data columns (total 22 columns):\n",
      "id                           uint32\n",
      "date_time                    datetime64[ns]\n",
      "site_name                    uint8\n",
      "posa_continent               uint8\n",
      "user_location_country        uint16\n",
      "user_location_region         uint16\n",
      "user_location_city           uint16\n",
      "orig_destination_distance    float32\n",
      "user_id                      uint32\n",
      "is_mobile                    bool\n",
      "is_package                   bool\n",
      "channel                      uint8\n",
      "srch_ci                      datetime64[ns]\n",
      "srch_co                      datetime64[ns]\n",
      "srch_adults_cnt              uint8\n",
      "srch_children_cnt            uint8\n",
      "srch_rm_cnt                  uint8\n",
      "srch_destination_id          uint32\n",
      "srch_destination_type_id     uint8\n",
      "hotel_continent              uint8\n",
      "hotel_country                uint16\n",
      "hotel_market                 uint16\n",
      "dtypes: bool(2), datetime64[ns](3), float32(1), uint16(5), uint32(3), uint8(8)\n",
      "memory usage: 144.7 MB\n"
     ]
    }
   ],
   "source": [
    "test = read_csv('data/test.csv.gz', cols=testcols)\n",
    "test.info()"
   ]
  },
  {
   "cell_type": "markdown",
   "metadata": {},
   "source": [
    "Finding missing values in test data:"
   ]
  },
  {
   "cell_type": "code",
   "execution_count": 11,
   "metadata": {
    "collapsed": false
   },
   "outputs": [
    {
     "data": {
      "text/plain": [
       "id                                0\n",
       "date_time                         0\n",
       "site_name                         0\n",
       "posa_continent                    0\n",
       "user_location_country             0\n",
       "user_location_region              0\n",
       "user_location_city                0\n",
       "orig_destination_distance    847461\n",
       "user_id                           0\n",
       "is_mobile                         0\n",
       "is_package                        0\n",
       "channel                           0\n",
       "srch_ci                          22\n",
       "srch_co                          17\n",
       "srch_adults_cnt                   0\n",
       "srch_children_cnt                 0\n",
       "srch_rm_cnt                       0\n",
       "srch_destination_id               0\n",
       "srch_destination_type_id          0\n",
       "hotel_continent                   0\n",
       "hotel_country                     0\n",
       "hotel_market                      0\n",
       "dtype: int64"
      ]
     },
     "execution_count": 11,
     "metadata": {},
     "output_type": "execute_result"
    }
   ],
   "source": [
    "test.isnull().sum()"
   ]
  },
  {
   "cell_type": "markdown",
   "metadata": {},
   "source": [
    "There are also some dates where the check in date is later than check out date:"
   ]
  },
  {
   "cell_type": "code",
   "execution_count": 12,
   "metadata": {
    "collapsed": false
   },
   "outputs": [
    {
     "data": {
      "text/plain": [
       "2184"
      ]
     },
     "execution_count": 12,
     "metadata": {},
     "output_type": "execute_result"
    }
   ],
   "source": [
    "(test.srch_ci > test.srch_co).sum()"
   ]
  },
  {
   "cell_type": "markdown",
   "metadata": {
    "collapsed": false
   },
   "source": [
    "Checking that all of the user_id-s in test set are contained in training set"
   ]
  },
  {
   "cell_type": "code",
   "execution_count": 33,
   "metadata": {
    "collapsed": false
   },
   "outputs": [
    {
     "data": {
      "text/plain": [
       "True"
      ]
     },
     "execution_count": 33,
     "metadata": {},
     "output_type": "execute_result"
    }
   ],
   "source": [
    "test_ids = set(test.user_id.unique())\n",
    "train_ids = set(train.user_id.unique())\n",
    "test_ids <= train_ids # issubset"
   ]
  },
  {
   "cell_type": "markdown",
   "metadata": {},
   "source": [
    "However, not all all user_ids that are in training data are in "
   ]
  },
  {
   "cell_type": "code",
   "execution_count": 32,
   "metadata": {
    "collapsed": false
   },
   "outputs": [
    {
     "data": {
      "text/plain": [
       "17209"
      ]
     },
     "execution_count": 32,
     "metadata": {},
     "output_type": "execute_result"
    }
   ],
   "source": [
    "len(train_ids - test_ids)"
   ]
  },
  {
   "cell_type": "markdown",
   "metadata": {},
   "source": [
    "Extract month and year field from the date"
   ]
  },
  {
   "cell_type": "code",
   "execution_count": 40,
   "metadata": {
    "collapsed": true
   },
   "outputs": [],
   "source": [
    "train['month'] = train['date_time'].dt.month.astype(np.uint8)\n",
    "train['year'] = train['date_time'].dt.year.astype(np.uint16)"
   ]
  },
  {
   "cell_type": "markdown",
   "metadata": {},
   "source": [
    "Pick 10000 users for smaller scale testing"
   ]
  },
  {
   "cell_type": "code",
   "execution_count": 57,
   "metadata": {
    "collapsed": false
   },
   "outputs": [],
   "source": [
    "sel_user_ids = sorted(random.sample(train_ids, 10000))\n",
    "sel_train = train[train.user_id.isin(sel_user_ids)]"
   ]
  },
  {
   "cell_type": "markdown",
   "metadata": {},
   "source": [
    "Create new test and training sets"
   ]
  },
  {
   "cell_type": "code",
   "execution_count": 67,
   "metadata": {
    "collapsed": false
   },
   "outputs": [],
   "source": [
    "t1 = sel_train[((sel_train.year == 2013) | ((sel_train.year == 2014) & (sel_train.month < 8)))]\n",
    "t2 = sel_train[((sel_train.year == 2014) & (sel_train.month >= 8))]"
   ]
  },
  {
   "cell_type": "markdown",
   "metadata": {},
   "source": [
    "Remove click events from t2 as in original test data."
   ]
  },
  {
   "cell_type": "code",
   "execution_count": 70,
   "metadata": {
    "collapsed": false
   },
   "outputs": [],
   "source": [
    "t2 = t2[t2.is_booking == True]"
   ]
  },
  {
   "cell_type": "markdown",
   "metadata": {},
   "source": [
    "# Data model building\n",
    "Starting looking at the most common clusters and their properties."
   ]
  },
  {
   "cell_type": "code",
   "execution_count": 75,
   "metadata": {
    "collapsed": false
   },
   "outputs": [],
   "source": [
    "most_common_clusters = list(train.hotel_cluster.value_counts().head().index)"
   ]
  },
  {
   "cell_type": "markdown",
   "metadata": {},
   "source": [
    "Predicting `most_common_clusters` for every single row in selected test data."
   ]
  },
  {
   "cell_type": "code",
   "execution_count": 78,
   "metadata": {
    "collapsed": false
   },
   "outputs": [],
   "source": [
    "predictions = [most_common_clusters for i in range(len(t2))]"
   ]
  },
  {
   "cell_type": "markdown",
   "metadata": {},
   "source": [
    "Calculating Mean Average Precision with `mapk` from `ml_metrics`."
   ]
  },
  {
   "cell_type": "code",
   "execution_count": 85,
   "metadata": {
    "collapsed": false
   },
   "outputs": [
    {
     "data": {
      "text/plain": [
       "0.066013887156459186"
      ]
     },
     "execution_count": 85,
     "metadata": {},
     "output_type": "execute_result"
    }
   ],
   "source": [
    "target = [[l] for l in t2['hotel_cluster']]\n",
    "metrics.mapk(target, predictions, k=5)"
   ]
  },
  {
   "cell_type": "code",
   "execution_count": null,
   "metadata": {
    "collapsed": false
   },
   "outputs": [],
   "source": []
  },
  {
   "cell_type": "code",
   "execution_count": null,
   "metadata": {
    "collapsed": true
   },
   "outputs": [],
   "source": []
  },
  {
   "cell_type": "code",
   "execution_count": null,
   "metadata": {
    "collapsed": true
   },
   "outputs": [],
   "source": []
  },
  {
   "cell_type": "code",
   "execution_count": null,
   "metadata": {
    "collapsed": false
   },
   "outputs": [],
   "source": []
  },
  {
   "cell_type": "code",
   "execution_count": null,
   "metadata": {
    "collapsed": true
   },
   "outputs": [],
   "source": []
  },
  {
   "cell_type": "markdown",
   "metadata": {},
   "source": [
    "--\n",
    "Peeter Piksarv"
   ]
  }
 ],
 "metadata": {
  "kernelspec": {
   "display_name": "Python 3",
   "language": "python",
   "name": "python3"
  },
  "language_info": {
   "codemirror_mode": {
    "name": "ipython",
    "version": 3
   },
   "file_extension": ".py",
   "mimetype": "text/x-python",
   "name": "python",
   "nbconvert_exporter": "python",
   "pygments_lexer": "ipython3",
   "version": "3.5.1"
  }
 },
 "nbformat": 4,
 "nbformat_minor": 0
}
