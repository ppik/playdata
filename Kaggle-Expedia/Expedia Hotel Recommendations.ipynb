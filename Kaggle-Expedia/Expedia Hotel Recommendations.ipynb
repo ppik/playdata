{
 "cells": [
  {
   "cell_type": "markdown",
   "metadata": {},
   "source": [
    "# Expedia Hotel Recommendations Kaggle competition\n",
    "This is my take on that particular Kaggle competition started off using [Dataquest tutorial](https://www.dataquest.io/blog/kaggle-tutorial/) by Vik Paruchuri."
   ]
  },
  {
   "cell_type": "code",
   "execution_count": 1,
   "metadata": {
    "collapsed": false
   },
   "outputs": [],
   "source": [
    "import matplotlib.pyplot as plt\n",
    "import numpy as np\n",
    "import pandas as pd\n",
    "\n",
    "%matplotlib notebook"
   ]
  },
  {
   "cell_type": "markdown",
   "metadata": {},
   "source": [
    "## Data import\n",
    "Actually don't need to unpack gzipped cvs files, pandas' `read_csv` can handle those, although it can be slower (Reading 1000000 rows from `train.csv.gz` seems to be about 9% slower than from `train.csv` on my laptop).\n",
    "\n",
    "Additionally, it's a good idea to specify the data types for each column tho ease the memory requirements. By default pandas detects the following data types:"
   ]
  },
  {
   "cell_type": "code",
   "execution_count": 3,
   "metadata": {
    "collapsed": false
   },
   "outputs": [
    {
     "data": {
      "text/plain": [
       "date_time                     object\n",
       "site_name                      int64\n",
       "posa_continent                 int64\n",
       "user_location_country          int64\n",
       "user_location_region           int64\n",
       "user_location_city             int64\n",
       "orig_destination_distance    float64\n",
       "user_id                        int64\n",
       "is_mobile                      int64\n",
       "is_package                     int64\n",
       "channel                        int64\n",
       "srch_ci                       object\n",
       "srch_co                       object\n",
       "srch_adults_cnt                int64\n",
       "srch_children_cnt              int64\n",
       "srch_rm_cnt                    int64\n",
       "srch_destination_id            int64\n",
       "srch_destination_type_id       int64\n",
       "is_booking                     int64\n",
       "cnt                            int64\n",
       "hotel_continent                int64\n",
       "hotel_country                  int64\n",
       "hotel_market                   int64\n",
       "hotel_cluster                  int64\n",
       "dtype: object"
      ]
     },
     "execution_count": 3,
     "metadata": {},
     "output_type": "execute_result"
    }
   ],
   "source": [
    "train = pd.read_csv('data/train.csv.gz', nrows=10)\n",
    "train.dtypes"
   ]
  },
  {
   "cell_type": "code",
   "execution_count": null,
   "metadata": {
    "collapsed": true
   },
   "outputs": [],
   "source": []
  },
  {
   "cell_type": "code",
   "execution_count": null,
   "metadata": {
    "collapsed": true
   },
   "outputs": [],
   "source": []
  },
  {
   "cell_type": "markdown",
   "metadata": {},
   "source": [
    "--\n",
    "Peeter Piksarv"
   ]
  }
 ],
 "metadata": {
  "kernelspec": {
   "display_name": "Python 3",
   "language": "python",
   "name": "python3"
  },
  "language_info": {
   "codemirror_mode": {
    "name": "ipython",
    "version": 3
   },
   "file_extension": ".py",
   "mimetype": "text/x-python",
   "name": "python",
   "nbconvert_exporter": "python",
   "pygments_lexer": "ipython3",
   "version": "3.5.1"
  }
 },
 "nbformat": 4,
 "nbformat_minor": 0
}
